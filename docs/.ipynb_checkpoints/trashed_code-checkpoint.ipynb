{
 "cells": [
  {
   "cell_type": "code",
   "execution_count": 1,
   "id": "e5061408-edce-4451-b80c-f69973a8dadd",
   "metadata": {
    "tags": []
   },
   "outputs": [
    {
     "ename": "NameError",
     "evalue": "name 'px' is not defined",
     "output_type": "error",
     "traceback": [
      "\u001b[0;31m---------------------------------------------------------------------------\u001b[0m",
      "\u001b[0;31mNameError\u001b[0m                                 Traceback (most recent call last)",
      "Cell \u001b[0;32mIn[1], line 1\u001b[0m\n\u001b[0;32m----> 1\u001b[0m fig \u001b[38;5;241m=\u001b[39m px\u001b[38;5;241m.\u001b[39mscatter(data,\n\u001b[1;32m      2\u001b[0m                  x \u001b[38;5;241m=\u001b[39m \u001b[38;5;124m\"\u001b[39m\u001b[38;5;124m%\u001b[39m\u001b[38;5;124m below poverty level\u001b[39m\u001b[38;5;124m\"\u001b[39m,\n\u001b[1;32m      3\u001b[0m                  y \u001b[38;5;241m=\u001b[39m \u001b[38;5;124m\"\u001b[39m\u001b[38;5;124m%\u001b[39m\u001b[38;5;124m CVAP voted\u001b[39m\u001b[38;5;124m\"\u001b[39m,\n\u001b[1;32m      4\u001b[0m                  color \u001b[38;5;241m=\u001b[39m \u001b[38;5;124m\"\u001b[39m\u001b[38;5;124mWhite Alone\u001b[39m\u001b[38;5;124m%\u001b[39m\u001b[38;5;124m\"\u001b[39m,\n\u001b[1;32m      5\u001b[0m                  width\u001b[38;5;241m=\u001b[39m\u001b[38;5;241m800\u001b[39m, \n\u001b[1;32m      6\u001b[0m                  height\u001b[38;5;241m=\u001b[39m\u001b[38;5;241m800\u001b[39m,\n\u001b[1;32m      7\u001b[0m                  hover_data \u001b[38;5;241m=\u001b[39m [\u001b[38;5;124m\"\u001b[39m\u001b[38;5;124mTRACTCE\u001b[39m\u001b[38;5;124m\"\u001b[39m],\n\u001b[1;32m      8\u001b[0m                  custom_data \u001b[38;5;241m=\u001b[39m [\u001b[38;5;124m\"\u001b[39m\u001b[38;5;124mTRACTCE\u001b[39m\u001b[38;5;124m\"\u001b[39m],\n\u001b[1;32m      9\u001b[0m                  labels\u001b[38;5;241m=\u001b[39m{\n\u001b[1;32m     10\u001b[0m                      \u001b[38;5;124m\"\u001b[39m\u001b[38;5;124m%\u001b[39m\u001b[38;5;124m below poverty level\u001b[39m\u001b[38;5;124m\"\u001b[39m: \u001b[38;5;124m\"\u001b[39m\u001b[38;5;124mResidents below poverty level\u001b[39m\u001b[38;5;124m\"\u001b[39m,\n\u001b[1;32m     11\u001b[0m                      \u001b[38;5;124m\"\u001b[39m\u001b[38;5;124m%\u001b[39m\u001b[38;5;124m CVAP voted\u001b[39m\u001b[38;5;124m\"\u001b[39m: \u001b[38;5;124m\"\u001b[39m\u001b[38;5;124mVoting-age population which voted\u001b[39m\u001b[38;5;124m\"\u001b[39m,\n\u001b[1;32m     12\u001b[0m                      \u001b[38;5;124m\"\u001b[39m\u001b[38;5;124mWhite Alone\u001b[39m\u001b[38;5;124m%\u001b[39m\u001b[38;5;124m\"\u001b[39m: \u001b[38;5;124m\"\u001b[39m\u001b[38;5;124mPercent make-up <br> of white residents\u001b[39m\u001b[38;5;124m\"\u001b[39m,\n\u001b[1;32m     13\u001b[0m                      \u001b[38;5;124m\"\u001b[39m\u001b[38;5;124mTRACTCE\u001b[39m\u001b[38;5;124m\"\u001b[39m: \u001b[38;5;124m\"\u001b[39m\u001b[38;5;124mCensus tract\u001b[39m\u001b[38;5;124m\"\u001b[39m\n\u001b[1;32m     14\u001b[0m                  },\n\u001b[1;32m     15\u001b[0m                  title \u001b[38;5;241m=\u001b[39m \u001b[38;5;124m\"\u001b[39m\u001b[38;5;124mVoter turnout among Alamedans in 2022 general election,\u001b[39m\u001b[38;5;124m\"\u001b[39m \u001b[38;5;241m+\u001b[39m\n\u001b[1;32m     16\u001b[0m                          \u001b[38;5;124m\"\u001b[39m\u001b[38;5;124m<br> along racial and socioeconomic lines\u001b[39m\u001b[38;5;124m\"\u001b[39m \u001b[38;5;241m+\u001b[39m \n\u001b[1;32m     17\u001b[0m                          \u001b[38;5;124m\"\u001b[39m\u001b[38;5;124m<br><br><sup>Plot Subtitle</sup>\u001b[39m\u001b[38;5;124m\"\u001b[39m\n\u001b[1;32m     18\u001b[0m                 )\n\u001b[1;32m     20\u001b[0m fig\u001b[38;5;241m.\u001b[39mupdate_traces(hovertemplate\u001b[38;5;241m=\u001b[39m\u001b[38;5;124m'\u001b[39m\u001b[38;5;124mResidents below poverty level: \u001b[39m\u001b[38;5;124m%\u001b[39m\u001b[38;5;132;01m{x}\u001b[39;00m\u001b[38;5;124m%\u001b[39m\u001b[38;5;124m'\u001b[39m \u001b[38;5;241m+\u001b[39m\n\u001b[1;32m     21\u001b[0m                                 \u001b[38;5;124m'\u001b[39m\u001b[38;5;124m<br>Voting-age population which voted in the 2022 general election: \u001b[39m\u001b[38;5;124m%\u001b[39m\u001b[38;5;132;01m{y}\u001b[39;00m\u001b[38;5;124m%\u001b[39m\u001b[38;5;124m'\u001b[39m \u001b[38;5;241m+\u001b[39m\n\u001b[1;32m     22\u001b[0m                                 \u001b[38;5;124m'\u001b[39m\u001b[38;5;124m<br>Census tract: \u001b[39m\u001b[38;5;124m%\u001b[39m\u001b[38;5;132;01m{customdata[0]}\u001b[39;00m\u001b[38;5;124m'\u001b[39m)    \n\u001b[1;32m     23\u001b[0m fig\u001b[38;5;241m.\u001b[39mshow()\n",
      "\u001b[0;31mNameError\u001b[0m: name 'px' is not defined"
     ]
    }
   ],
   "source": [
    "fig = px.scatter(data,\n",
    "                 x = \"% below poverty level\",\n",
    "                 y = \"% CVAP voted\",\n",
    "                 color = \"White Alone%\",\n",
    "                 width=800, \n",
    "                 height=800,\n",
    "                 hover_data = [\"TRACTCE\"],\n",
    "                 custom_data = [\"TRACTCE\"],\n",
    "                 labels={\n",
    "                     \"% below poverty level\": \"Residents below poverty level\",\n",
    "                     \"% CVAP voted\": \"Voting-age population which voted\",\n",
    "                     \"White Alone%\": \"Percent make-up <br> of white residents\",\n",
    "                     \"TRACTCE\": \"Census tract\"\n",
    "                 },\n",
    "                 title = \"Voter turnout among Alamedans in 2022 general election,\" +\n",
    "                         \"<br> along racial and socioeconomic lines\" + \n",
    "                         \"<br><br><sup>Plot Subtitle</sup>\"\n",
    "                )\n",
    "                \n",
    "fig.update_traces(hovertemplate='Residents below poverty level: %{x}%' +\n",
    "                                '<br>Voting-age population which voted in the 2022 general election: %{y}%' +\n",
    "                                '<br>Census tract: %{customdata[0]}')    \n",
    "fig.show()"
   ]
  },
  {
   "cell_type": "code",
   "execution_count": null,
   "id": "566970a8-bfa0-4f76-b562-fe2875495429",
   "metadata": {},
   "outputs": [],
   "source": []
  }
 ],
 "metadata": {
  "kernelspec": {
   "display_name": "Python 3 (ipykernel)",
   "language": "python",
   "name": "python3"
  },
  "language_info": {
   "codemirror_mode": {
    "name": "ipython",
    "version": 3
   },
   "file_extension": ".py",
   "mimetype": "text/x-python",
   "name": "python",
   "nbconvert_exporter": "python",
   "pygments_lexer": "ipython3",
   "version": "3.11.5"
  }
 },
 "nbformat": 4,
 "nbformat_minor": 5
}
