{
 "cells": [
  {
   "cell_type": "markdown",
   "id": "861b03f8-148d-4ee5-943a-2902cb4f41c6",
   "metadata": {
    "tags": []
   },
   "source": [
    "# Who is voting in Alameda County?\n",
    "\n",
    "In the affluent, hillside suburbs of Berkeley, voter turnout is high. More than 80% of the voting-age population, in some census tracts, voted in the 2022 general election. But such cannot be said for the flatlands of Oakland, Southside Berkeley and much of the bayside neighborhoods of Alameda County.\n",
    "\n",
    "News coverage from across the country in recent years reveals an interest in covering voter suppression, but few Bay Area news outlets have covered voter suppression in their own locales."
   ]
  },
  {
   "cell_type": "code",
   "execution_count": 3,
   "id": "3b608d0c-4038-4d38-b94b-5ab6a0e273d7",
   "metadata": {
    "tags": []
   },
   "outputs": [
    {
     "data": {
      "text/html": [
       "<div class=\"flourish-embed flourish-scatter\" data-src=\"visualisation/18259297\"><script src=\"https://public.flourish.studio/resources/embed.js\"></script></div>\n"
      ],
      "text/plain": [
       "<IPython.core.display.HTML object>"
      ]
     },
     "metadata": {},
     "output_type": "display_data"
    }
   ],
   "source": [
    "%%HTML\n",
    "<div class=\"flourish-embed flourish-scatter\" data-src=\"visualisation/18259297\"><script src=\"https://public.flourish.studio/resources/embed.js\"></script></div>"
   ]
  },
  {
   "cell_type": "code",
   "execution_count": 1,
   "id": "3f8328c2-a8a2-4307-928c-469854c0a781",
   "metadata": {
    "tags": []
   },
   "outputs": [
    {
     "data": {
      "text/html": [
       "<div class=\"flourish-embed flourish-map\" data-src=\"visualisation/18260201\"><script src=\"https://public.flourish.studio/resources/embed.js\"></script></div>\n"
      ],
      "text/plain": [
       "<IPython.core.display.HTML object>"
      ]
     },
     "metadata": {},
     "output_type": "display_data"
    }
   ],
   "source": [
    "%%HTML\n",
    "<div class=\"flourish-embed flourish-map\" data-src=\"visualisation/18260201\"><script src=\"https://public.flourish.studio/resources/embed.js\"></script></div>"
   ]
  },
  {
   "cell_type": "code",
   "execution_count": 74,
   "id": "d159e113-29d4-45f6-9b35-116e45b2d462",
   "metadata": {
    "tags": []
   },
   "outputs": [],
   "source": [
    "import plotly.express as px\n",
    "import pandas as pd"
   ]
  },
  {
   "cell_type": "code",
   "execution_count": 75,
   "id": "54f91a36-e9c5-4baf-b549-6065b96718a9",
   "metadata": {
    "tags": []
   },
   "outputs": [],
   "source": [
    "data = pd.read_csv(\"merged.csv\")"
   ]
  },
  {
   "cell_type": "code",
   "execution_count": null,
   "id": "5cc5895f-06e9-412d-8661-1fdc059f0e28",
   "metadata": {},
   "outputs": [],
   "source": []
  },
  {
   "cell_type": "code",
   "execution_count": null,
   "id": "49a31a0b-40d8-4dc7-b50e-9ad6ade2335d",
   "metadata": {},
   "outputs": [],
   "source": []
  }
 ],
 "metadata": {
  "kernelspec": {
   "display_name": "Python 3 (ipykernel)",
   "language": "python",
   "name": "python3"
  },
  "language_info": {
   "codemirror_mode": {
    "name": "ipython",
    "version": 3
   },
   "file_extension": ".py",
   "mimetype": "text/x-python",
   "name": "python",
   "nbconvert_exporter": "python",
   "pygments_lexer": "ipython3",
   "version": "3.11.5"
  }
 },
 "nbformat": 4,
 "nbformat_minor": 5
}
