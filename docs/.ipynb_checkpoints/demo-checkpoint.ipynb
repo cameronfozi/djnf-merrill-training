{
  "cells": [
    {
      "cell_type": "code",
      "metadata": {},
      "source": [
        "print(\"MEOW\")"
      ],
      "id": "65577909",
      "execution_count": null,
      "outputs": []
    }
  ],
  "metadata": {
    "kernelspec": {
      "name": "python3",
      "language": "python",
      "display_name": "Python 3 (ipykernel)"
    }
  },
  "nbformat": 4,
  "nbformat_minor": 5
}